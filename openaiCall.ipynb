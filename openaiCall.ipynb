{
  "cells": [
    {
      "cell_type": "code",
      "execution_count": 1,
      "metadata": {
        "id": "SmoAOcN27dIB"
      },
      "outputs": [],
      "source": [
        "from openaiCall import openaiBot\n",
        "api_key = ''"
      ]
    },
    {
      "cell_type": "code",
      "execution_count": null,
      "metadata": {
        "id": "xPUFULl07wMh"
      },
      "outputs": [],
      "source": [
        "test_data = '\"I woke up early today to catch the sunrise.\"\\n\"Breakfast was quick and easy, just some cereal and milk.\"\\n\"The commute to work was surprisingly smooth, no traffic jams.\"\\n\"Lunch with colleagues at the new restaurant was delightful.\"\\n\"Finished the project well before the deadline, feeling productive.\"\\n\"Decided to take a short walk during the break, it was refreshing.\"\\n\"The weather today was perfect, not too hot and not too cold.\"\\n\"Had a productive meeting with the team, we\\'re on the right track.\"\\n\"Dinner was a simple homemade meal, but very satisfying.\"\\n\"Ended the day with some light reading before bed.\"'\n",
        "#假設這是讀進來的文字檔 每句話用換行分開\n",
        "\n",
        "list_sentences = test_data.split('\\n') #變list\n",
        "\n",
        "translator = openaiBot(api_key,job='given a series of english sentences enclosed by quote, translate into traditional chinese in a natrual way without loosing the intent, put them in an array named result and return in json',jsonMode=True)\n",
        "#創造agent,指定他的功能並使它回傳json物件\n",
        "\n",
        "list_product = []\n",
        "for i in range(0,len(list_sentences),3): #批次翻譯 呼叫次數少一點可以省錢\n",
        "    current_input = ' '.join(list_sentences[i:i+3])\n",
        "    list_result = translator.chat(current_input,temperature=0.7)['result']\n",
        "    list_product.extend(list_result)\n",
        "\n",
        "for i in range(len(list_sentences)):\n",
        "    print(list_sentences[i],list_product[i])"
      ]
    },
    {
      "cell_type": "code",
      "execution_count": 4,
      "metadata": {},
      "outputs": [
        {
          "name": "stdout",
          "output_type": "stream",
          "text": [
            "0\n",
            "1\n"
          ]
        }
      ],
      "source": [
        "for i in range(0,5,2):\n",
        "    print(i)"
      ]
    }
  ],
  "metadata": {
    "colab": {
      "provenance": []
    },
    "kernelspec": {
      "display_name": "Python 3",
      "name": "python3"
    },
    "language_info": {
      "codemirror_mode": {
        "name": "ipython",
        "version": 3
      },
      "file_extension": ".py",
      "mimetype": "text/x-python",
      "name": "python",
      "nbconvert_exporter": "python",
      "pygments_lexer": "ipython3",
      "version": "3.12.2"
    }
  },
  "nbformat": 4,
  "nbformat_minor": 0
}
